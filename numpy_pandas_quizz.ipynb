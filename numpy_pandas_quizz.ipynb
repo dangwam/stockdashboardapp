{
 "cells": [
  {
   "cell_type": "markdown",
   "id": "2aa5a352-f5c0-44cc-a766-15778ba4b22b",
   "metadata": {},
   "source": [
    "\n",
    "import numpy as np\n"
   ]
  },
  {
   "cell_type": "code",
   "execution_count": 42,
   "id": "021a0920-f14d-4097-a8e6-c20e215144c6",
   "metadata": {},
   "outputs": [
    {
     "name": "stdout",
     "output_type": "stream",
     "text": [
      "1.26.0\n",
      "[[0. 0. 0. 0.]\n",
      " [0. 1. 1. 0.]\n",
      " [0. 1. 1. 0.]\n",
      " [0. 0. 0. 0.]]\n",
      "[[1. 1. 1. 1.]\n",
      " [1. 0. 0. 1.]\n",
      " [1. 0. 0. 1.]\n",
      " [1. 1. 1. 1.]]\n",
      "memory size of this array is 800\n"
     ]
    }
   ],
   "source": [
    "import numpy as np\n",
    "print(np.__version__)\n",
    "#np.show_config()\n",
    "#### 16. How to add a border (filled with 0's) around an existing array? (★☆☆)\n",
    "z = np.zeros((4,4))\n",
    "#z[1:-1,1:-1] = 1\n",
    "print(z)\n",
    "\n",
    "#### 15. Create a 2d array with 1 on the border and 0 inside (★☆☆)\n",
    "z = np.ones((4,4))\n",
    "z[1:-1,1:-1] = 0\n",
    "print(z)\n",
    "\n",
    "z = np.zeros((10, 10))\n",
    "print(f'memory size of this array is { z.size * z.itemsize}')\n",
    "#print(np.info(np.add))\n",
    "#x = np.arange(10,50)\n",
    "#print(x[::-1])\n",
    "#print(np.arange(9).reshape(3,3))\n",
    "#print(np.random.randn(3,3,3))\n",
    "#print(np.random.random((10,10,10)).mean().round(3))\n",
    "\n"
   ]
  },
  {
   "cell_type": "code",
   "execution_count": null,
   "id": "5d7015f7-ff35-4605-890a-6a8d53dc9a16",
   "metadata": {},
   "outputs": [],
   "source": []
  }
 ],
 "metadata": {
  "kernelspec": {
   "display_name": "Python 3 (ipykernel)",
   "language": "python",
   "name": "python3"
  },
  "language_info": {
   "codemirror_mode": {
    "name": "ipython",
    "version": 3
   },
   "file_extension": ".py",
   "mimetype": "text/x-python",
   "name": "python",
   "nbconvert_exporter": "python",
   "pygments_lexer": "ipython3",
   "version": "3.11.5"
  }
 },
 "nbformat": 4,
 "nbformat_minor": 5
}
